{
 "cells": [
  {
   "cell_type": "code",
   "execution_count": null,
   "id": "51efed52-00f6-4a2b-bfa2-8a75d029cf1c",
   "metadata": {},
   "outputs": [],
   "source": []
  }
 ],
 "metadata": {
  "kernelspec": {
   "display_name": "",
   "name": ""
  },
  "language_info": {
   "name": ""
  }
 },
 "nbformat": 4,
 "nbformat_minor": 5
}
